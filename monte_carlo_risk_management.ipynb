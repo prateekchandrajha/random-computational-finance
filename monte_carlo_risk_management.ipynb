{
  "nbformat": 4,
  "nbformat_minor": 0,
  "metadata": {
    "colab": {
      "name": "monte-carlo-risk-management.ipynb",
      "provenance": [],
      "collapsed_sections": [],
      "authorship_tag": "ABX9TyNCTS1Nkkm92HDvtjimHmZM",
      "include_colab_link": true
    },
    "kernelspec": {
      "name": "python3",
      "display_name": "Python 3"
    }
  },
  "cells": [
    {
      "cell_type": "markdown",
      "metadata": {
        "id": "view-in-github",
        "colab_type": "text"
      },
      "source": [
        "<a href=\"https://colab.research.google.com/github/prateekchandrajha/random-computational-finance/blob/main/monte_carlo_risk_management.ipynb\" target=\"_parent\"><img src=\"https://colab.research.google.com/assets/colab-badge.svg\" alt=\"Open In Colab\"/></a>"
      ]
    },
    {
      "cell_type": "markdown",
      "metadata": {
        "id": "k1XnHhRTyX4w"
      },
      "source": [
        "# VaR and CVA\r\n",
        "\r\n",
        "Two ways of accounting for risk in financial transactions: Value at Risk\r\n",
        "(VaR) and Credit Valuation Adjustment (CVA). The module begins by defining VaR and\r\n",
        "discusses how to calculate it using Monte-Carlo Methods. Examples of how to implement\r\n",
        "Monte Carlo Methods in Python for VaR simulation are provided. The module concludes by\r\n",
        "defining CVA and explaining how it can be calculated using the Black-Scholes model by\r\n",
        "Merton.\r\n",
        "\r\n",
        "A technique for quantifying the risk in a portfolio is known as a risk metric. This gives us a way\r\n",
        "of numerically describing the amount of uncertainty in that portfolio. Note that we will be\r\n",
        "talking about portfolios throughout this unit. A portfolio is just a group of assets.\r\n",
        "A few examples of potential risk metrics include volatility (or variance) and\r\n",
        "correlation. These give an idea of the extent to which your portfolio's value could\r\n",
        "decrease, and how susceptible it is to massive swings in value. However, in order\r\n",
        "for them to fully characterize the risk inherent in the portfolio, you would need the distribution\r\n",
        "of returns to be multivariate normal, which is very unlikely. Thus, we would need to use a more\r\n",
        "general metric: Value at Risk.\r\n",
        "\r\n",
        "## Value at Risk\r\n",
        "\r\n",
        "Value at Risk gives an indication of how much you stand to lose on a portfolio with a given\r\n",
        "probability, over a specific time period. This can be measured in absolute terms (we could lose\r\n",
        "100 in portfolio value) or in relative terms (the value of our portfolio will decrease by 5%).\r\n",
        "Because of the possible usefulness of both measures, we will present both potential definitions\r\n",
        "(although they are linked regardless).\r\n",
        "\r\n",
        "For example, suppose we have a portfolio that is worth 100. Say we know that there is a 5%\r\n",
        "chance that the portfolio will have a value of 20 or less. Then the 5% VaR for the portfolio is  dollars 80,\r\n",
        "or 80%. We are 95% confident that the value of our portfolio will not fall by more than dollars 80. Note that there is a different VaR for different significance levels, and different time periods. It\r\n",
        "is very important to note that VaR changes when we change these quantities.\r\n"
      ]
    },
    {
      "cell_type": "markdown",
      "metadata": {
        "id": "FZ_nSTB55R0Q"
      },
      "source": [
        "More explicitly, Monte Carlo VaR models work as follows:\r\n",
        "\r\n",
        "• Determine dynamics for the assets in your portfolio.\r\n",
        "\r\n",
        "• Use Monte Carlo simulation to simulate the value of these assets 𝑛-days into the future.\r\n",
        "\r\n",
        "• Determine your portfolio value in each scenario.\r\n",
        "\r\n",
        "• Determine the α-quantile of these projected portfolio values."
      ]
    },
    {
      "cell_type": "code",
      "metadata": {
        "id": "GSF00SCIxb2Z"
      },
      "source": [
        "import numpy as np\r\n",
        "from scipy.stats import norm, uniform\r\n",
        "import numpy.matlib\r\n",
        "import matplotlib.pyplot as plt\r\n",
        "import math\r\n",
        "import random "
      ],
      "execution_count": 28,
      "outputs": []
    },
    {
      "cell_type": "code",
      "metadata": {
        "id": "iRms2e6A-eGh"
      },
      "source": [
        "S0 = np.array([[100],[95],[50]])\r\n",
        "sigma = np.array([[0.15],[0.2],[0.3]])\r\n",
        "cor_mat = np.array([[1,0.2,0.4],[0.2,1,0.8],[0.4,0.8,1]])\r\n",
        "\r\n",
        "L = np.linalg.cholesky(cor_mat) # cholesky decomposition\r\n",
        "\r\n",
        "r=0.1\r\n",
        "T=1"
      ],
      "execution_count": 29,
      "outputs": []
    },
    {
      "cell_type": "code",
      "metadata": {
        "id": "Rhcdj_Ml_Fvo"
      },
      "source": [
        "# monte carlo est of VaR\r\n",
        "\r\n",
        "np.random.seed(0)\r\n",
        "\r\n",
        "t_simulations = 1000\r\n",
        "\r\n",
        "alpha = 0.05\r\n",
        "\r\n",
        "portval_current = np.sum(S0)\r\n",
        "\r\n"
      ],
      "execution_count": 30,
      "outputs": []
    },
    {
      "cell_type": "code",
      "metadata": {
        "id": "pQ_nf8s__TTH"
      },
      "source": [
        "def terminal_share_price(S_0, risk_free_rate, sigma, Z, T):\r\n",
        "  \"\"\"generates the terminal share price given some random normal values, Z\"\"\"\r\n",
        "  return S_0*np.exp((risk_free_rate - sigma**2/2)*T + sigma*np.sqrt(T)*Z)\r\n",
        "\r\n"
      ],
      "execution_count": 31,
      "outputs": []
    },
    {
      "cell_type": "code",
      "metadata": {
        "id": "mWUesTmy_6Sl"
      },
      "source": [
        "# creating 10000 simulations for future portfolio values\r\n",
        "\r\n",
        "Z = np.matmul(L, norm.rvs(size=[3,t_simulations]))\r\n",
        "\r\n",
        "portval_future = np.sum(terminal_share_price(S0, r, sigma, Z, T), axis=0)\r\n",
        "\r\n"
      ],
      "execution_count": 32,
      "outputs": []
    },
    {
      "cell_type": "code",
      "metadata": {
        "id": "L44f8typAlIH"
      },
      "source": [
        "# calculating portfolio returns\r\n",
        "\r\n",
        "portreturn = (portval_future - portval_current)/portval_current\r\n",
        "\r\n",
        "# sorting the returns in order to find the lowest 5%\r\n",
        "\r\n",
        "portreturn = np.sort(portreturn)\r\n",
        "\r\n",
        "# determining VaR\r\n",
        "\r\n",
        "mVaR_estimate = -portreturn[int(np.floor(alpha*t_simulations))-1]"
      ],
      "execution_count": 33,
      "outputs": []
    },
    {
      "cell_type": "code",
      "metadata": {
        "colab": {
          "base_uri": "https://localhost:8080/"
        },
        "id": "fcbSFAFGBMQD",
        "outputId": "8b9d9043-71d3-4bc3-8cad-5943f525c3b8"
      },
      "source": [
        "mVaR_estimate"
      ],
      "execution_count": 34,
      "outputs": [
        {
          "output_type": "execute_result",
          "data": {
            "text/plain": [
              "0.14318361044360806"
            ]
          },
          "metadata": {
            "tags": []
          },
          "execution_count": 34
        }
      ]
    },
    {
      "cell_type": "markdown",
      "metadata": {
        "id": "vn4e4U2gnRcV"
      },
      "source": [
        "## Historical Simulation to estimate VaR"
      ]
    },
    {
      "cell_type": "code",
      "metadata": {
        "id": "LSrO8Zs9n2ms"
      },
      "source": [
        "def share_path(S_0, risk_free_rate, sigma, Z, dT):\r\n",
        "  \"\"\"generates the terminal share price given some random normal values, Z\"\"\"\r\n",
        "  return S_0*np.exp(np.cumsum((risk_free_rate-sigma**2/2)*dT+sigma*np.sqrt(dT)*Z,1))"
      ],
      "execution_count": 35,
      "outputs": []
    },
    {
      "cell_type": "markdown",
      "metadata": {
        "id": "sJzII5zyocjs"
      },
      "source": [
        "This code generates our price path. The price_path variable can be viewed as a\r\n",
        "synthetic version of the historical data that we would normally use.\r\n"
      ]
    },
    {
      "cell_type": "code",
      "metadata": {
        "id": "2YGnJ7z_BPZF"
      },
      "source": [
        "random.seed(0)\r\n",
        "t_simulations = 10000\r\n",
        "alpha = 0.01\r\n",
        "dT = 1/365\r\n",
        "sigma = 0.1\r\n",
        "S0 = 25\r\n",
        "T = 1\r\n",
        "mu=0.1\r\n",
        "# generating synthetic share price data\r\n",
        "\r\n",
        "# Z = norm.rvs(size=[3,5*365])\r\n",
        "# corr_z = np.transpose(np.matmul(L,Z))\r\n",
        "# price_path = share_path(S0, r, sigma, corr_z, dT)\r\n",
        "\r\n",
        "# hist_S0 = price_path[-1]\r\n",
        "# hist_portval = np.sum(hist_S0)\r\n",
        "# hist_portret = [None]*t_simulations\r\n",
        "\r\n",
        "z_histdata = norm.rvs(size = [1,10*365])\r\n",
        "price_path = share_path(S0, mu, sigma, z_histdata, dT)\r\n",
        "\r\n",
        "hist_lret = np.log(price_path[0,1:])-np.log(price_path[0,0:-1])\r\n",
        "mc_mu = np.mean(hist_lret)*365\r\n",
        "mc_sigma = np.std(hist_lret)*np.sqrt(365)"
      ],
      "execution_count": 36,
      "outputs": []
    },
    {
      "cell_type": "code",
      "metadata": {
        "id": "xK5wWj_ms3IA"
      },
      "source": [
        "def terminal_shareprice_adj(S_0, mu, sigma, Z, T):\r\n",
        "  \"\"\"generates the terminal share price given some random normal values, Z\"\"\"\r\n",
        "  return S_0*np.exp((mu)*T + sigma*np.sqrt(T)*Z)\r\n",
        "\r\n",
        "alpha = 0.01\r\n",
        "S0 = price_path[0,-1]\r\n",
        "mportval_current = S0\r\n",
        "\r\n",
        "mV_estimate = [None]*50\r\n",
        "histV_estimate = [None]*50\r\n",
        "\r\n",
        "for i in range(1,51):\r\n",
        "  Z = norm.rvs(size = i*1000)\r\n",
        "  montportval_future = terminal_shareprice_adj(S0, mc_mu, mc_sigma, Z, T)\r\n",
        "\r\n",
        "  hist_portret = [None]*i*1000\r\n",
        "\r\n",
        "  for j in range(1,i*1000+1):\r\n",
        "    rand_samp = uniform.rvs(size=365)*(len(price_path[0])-1)\r\n",
        "    rand_samp = [int(x) for x in rand_samp]\r\n",
        "    share_returns = hist_lret[rand_samp]\r\n",
        "    s_term = S0*np.exp(np.sum(share_returns, axis = 0))\r\n",
        "    hist_portret[j-1] = (s_term - mportval_current)/mportval_current\r\n",
        "\r\n",
        "  montport_return = np.sort((montportval_future-mportval_current)/mportval_current)\r\n",
        "  hist_portret = np.sort(hist_portret) \r\n",
        "\r\n",
        "  mV_estimate[i-1] = -montport_return[int(alpha*i*1000)-1]\r\n",
        "  histV_estimate[i-1] = -hist_portret[int(np.floor(alpha*i*1000))-1]\r\n"
      ],
      "execution_count": 37,
      "outputs": []
    },
    {
      "cell_type": "code",
      "metadata": {
        "colab": {
          "base_uri": "https://localhost:8080/"
        },
        "id": "GbaA_NOtvWlJ",
        "outputId": "917aac9a-83f2-40fd-ad4e-d81b65636467"
      },
      "source": [
        "S0"
      ],
      "execution_count": 38,
      "outputs": [
        {
          "output_type": "execute_result",
          "data": {
            "text/plain": [
              "60.88709945885182"
            ]
          },
          "metadata": {
            "tags": []
          },
          "execution_count": 38
        }
      ]
    },
    {
      "cell_type": "code",
      "metadata": {
        "colab": {
          "base_uri": "https://localhost:8080/",
          "height": 265
        },
        "id": "XhYexO5RsxUq",
        "outputId": "387840f0-50c0-4260-f24d-6a3d48655f50"
      },
      "source": [
        "plt.plot(mV_estimate)\r\n",
        "plt.plot(histV_estimate)\r\n",
        "plt.show()"
      ],
      "execution_count": 39,
      "outputs": [
        {
          "output_type": "display_data",
          "data": {
            "image/png": "[encoded data removed]",
            "text/plain": [
              "<Figure size 432x288 with 1 Axes>"
            ]
          },
          "metadata": {
            "tags": [],
            "needs_background": "light"
          }
        }
      ]
    },
    {
      "cell_type": "markdown",
      "metadata": {
        "id": "7vcUYEfyySJG"
      },
      "source": [
        "## Credit Valuation Adjustment\r\n",
        "\r\n",
        "The biggest issue we face with CVA is the difficulty in calculating it, as there are a number of\r\n",
        "factors which affect it, such as credit spreads and market factors. As a result, we introduce an\r\n",
        "extension to the Black-Scholes model, known as the Merton model.\r\n",
        "\r\n",
        "𝑑𝑉𝑡 = 𝑟𝑉𝑡𝑑𝑡 + σ𝑉𝑡𝑑𝑊𝑡\r\n",
        "; 𝑉0 = 𝑉\r\n",
        "(3)\r\n",
        "where 𝑉𝑡\r\n",
        "is the value of the firm at time 𝑡. We assume that the value of the firm is the maximum\r\n",
        "amount which they can pay towards settling their debt. For the sake of modeling, we assume\r\n",
        "that the total debt which the firm has is some fixed amount, 𝐷, which is due at some future time\r\n",
        "𝑇, and that default can only happen at time 𝑇.\r\n",
        "\r\n",
        "Note: Discounted assets are martingales under the risk-neutral\r\n",
        "measure.\r\n",
        "\r\n",
        "## Monte Carlo Simulations For Calculating CVA\r\n",
        "\r\n",
        "We are going to be considering the following scenario: you hold a call option on a stock, with an\r\n",
        "initial stock value of dollars 100, a volatility of 30%, a strike of dollars 110, and a term of one year. The\r\n",
        "continuously-compounded risk-free rate prevalent in the market is 10%. The counterparty to\r\n",
        "your call has some probability of default. The firm/counterparty is currently valued at dollars 200, with\r\n",
        "a volatility of 25%, and has a debt of dollars 180 which it owes in one year. If the firm were to default,\r\n",
        "you would receive 20% of what they owe you – this is their recovery rate.\r\n",
        "We are going to be modeling your CVA for a number of different levels of correlation between\r\n",
        "the stock on which the option is written and the value of the counterparty. Let's go through the\r\n",
        "code that does this.\r\n",
        "\r\n",
        "Here we are capturing the information as per the problem statement. The share is the asset on\r\n",
        "which we hold a call option, and the firm is the counterparty for the option."
      ]
    },
    {
      "cell_type": "code",
      "metadata": {
        "id": "_DqzAsG8Fq0J"
      },
      "source": [
        "risk_free = 0.1\r\n",
        "S_0 = 100\r\n",
        "sigma = 0.3\r\n",
        "strike = 100\r\n",
        "T=1\r\n",
        "V_0 = 200\r\n",
        "sigma_firm = 0.25\r\n",
        "debt = 180\r\n",
        "recovery_rate = 0.2"
      ],
      "execution_count": 40,
      "outputs": []
    },
    {
      "cell_type": "code",
      "metadata": {
        "id": "Vk9CdD99GQOr"
      },
      "source": [
        "def terminal_value(S_0, risk_free_rate, sigma, Z, T): # applies to both firm and stock\r\n",
        "  \"\"\"generates the terminal share price given some random normal values, Z\"\"\"\r\n",
        "  return S_0*np.exp((risk_free_rate - sigma**2/2)*T + sigma*np.sqrt(T)*Z)\r\n",
        "\r\n",
        "def call_payoff(S_T,K):\r\n",
        "  return np.maximum(S_T-K,0)"
      ],
      "execution_count": 41,
      "outputs": []
    },
    {
      "cell_type": "code",
      "metadata": {
        "id": "Ab4cuB37Gs9N"
      },
      "source": [
        "corr_tested = np.linspace(-1,1,21)\r\n",
        "cva_estimates = [None]*len(corr_tested)\r\n",
        "cva_std = [None]*len(corr_tested)"
      ],
      "execution_count": 42,
      "outputs": []
    },
    {
      "cell_type": "code",
      "metadata": {
        "id": "grBhjdy5HAoD"
      },
      "source": [
        "for i in range(len(corr_tested)):\r\n",
        "\r\n",
        "  correlation = corr_tested[i]\r\n",
        "\r\n",
        "  if (correlation==1 or correlation==-1):\r\n",
        "    norm_vec_0 = norm.rvs(size=50000)\r\n",
        "    norm_vec_1 = correlation*norm_vec_0\r\n",
        "    corr_norm_matrix = np.array([norm_vec_0,norm_vec_1])\r\n",
        "\r\n",
        "  else:\r\n",
        "    corr_matrix = np.array([[1,correlation],[correlation,1]])\r\n",
        "    norm_matrix = norm.rvs(size = np.array([2,50000]))\r\n",
        "    corr_norm_matrix = np.matmul(np.linalg.cholesky(corr_matrix), norm_matrix)\r\n",
        "\r\n",
        "  term_stock_val = terminal_value(S_0, risk_free, sigma, corr_norm_matrix[0,], T)\r\n",
        "  call_val = call_payoff(term_stock_val, strike)\r\n",
        "  term_firm_val = terminal_value(V_0, risk_free, sigma_firm, corr_norm_matrix[1,], T)\r\n",
        "  amount_lost = np.exp(-risk_free*T)*(1-recovery_rate)*(term_firm_val < debt)*call_val\r\n",
        "  cva_estimates[i] = np.mean(amount_lost)\r\n",
        "  cva_std[i] = np.std(amount_lost)/np.sqrt(50000)"
      ],
      "execution_count": 44,
      "outputs": []
    },
    {
      "cell_type": "code",
      "metadata": {
        "colab": {
          "base_uri": "https://localhost:8080/",
          "height": 282
        },
        "id": "0plwwjOSI2If",
        "outputId": "86bf9d61-5372-41d0-f9f2-9b4c0a9fb5a6"
      },
      "source": [
        "plt.plot(cva_estimates)"
      ],
      "execution_count": 46,
      "outputs": [
        {
          "output_type": "execute_result",
          "data": {
            "text/plain": [
              "[<matplotlib.lines.Line2D at 0x7f8e08c42fd0>]"
            ]
          },
          "metadata": {
            "tags": []
          },
          "execution_count": 46
        },
        {
          "output_type": "display_data",
          "data": {
            "image/png": "[encoded data removed]",
            "text/plain": [
              "<Figure size 432x288 with 1 Axes>"
            ]
          },
          "metadata": {
            "tags": [],
            "needs_background": "light"
          }
        }
      ]
    },
    {
      "cell_type": "code",
      "metadata": {
        "colab": {
          "base_uri": "https://localhost:8080/",
          "height": 282
        },
        "id": "dKoCIcCiss77",
        "outputId": "9c53559c-0752-472e-c577-ef96e69f9411"
      },
      "source": [
        "plt.plot(cva_std)"
      ],
      "execution_count": 47,
      "outputs": [
        {
          "output_type": "execute_result",
          "data": {
            "text/plain": [
              "[<matplotlib.lines.Line2D at 0x7f8e08c34400>]"
            ]
          },
          "metadata": {
            "tags": []
          },
          "execution_count": 47
        },
        {
          "output_type": "display_data",
          "data": {
            "image/png": "[encoded data removed]",
            "text/plain": [
              "<Figure size 432x288 with 1 Axes>"
            ]
          },
          "metadata": {
            "tags": [],
            "needs_background": "light"
          }
        }
      ]
    },
    {
      "cell_type": "markdown",
      "metadata": {
        "id": "dEi70lTOMl8Q"
      },
      "source": [
        "### CVA in real situations:\r\n",
        "\r\n",
        "• CVA is the price one would pay to hedge the portfolio of derivative instruments against counterparty credit risk\r\n",
        "\r\n",
        "• It was introduced in 2007 in order to enhance fair value accounting\r\n",
        "\r\n",
        "• It is largely used in the derivatives markets\r\n",
        "\r\n",
        "• There is not a standardized methodology for CVA as financial companies use different\r\n",
        "versions of CVA depending on their needs and complexity required\r\n",
        "\r\n",
        "• Complex CVA approaches require market risk factor simulations and different market\r\n",
        "scenarios\r\n",
        "\r\n",
        "• Large financial institutions that have a high share of derivatives in their portfolio invest\r\n",
        "heavily in CVA analysis and even have a separate CVA trading desk\r\n"
      ]
    },
    {
      "cell_type": "code",
      "metadata": {
        "id": "-ou5kWhJo6v6"
      },
      "source": [
        "import numpy.random as npr\r\n",
        "from pylab import *\r\n",
        "import matplotlib.pyplot as plt"
      ],
      "execution_count": 48,
      "outputs": []
    },
    {
      "cell_type": "code",
      "metadata": {
        "id": "HvbyLrViM8OT"
      },
      "source": [
        "# Consider the Black-Scholes-Merton model with the following parameters:\r\n",
        "S0 = 6.86\r\n",
        "r1 = 0.01\r\n",
        "sigma1 = 0.2\r\n",
        "T1 = 1.\r\n",
        "I1 = 400\r\n",
        "ST1 = S0 * np.exp((r1 - 0.5 * sigma1 ** 2) * T1 + sigma1 * np.sqrt(T1) * npr.standard_normal(I1))"
      ],
      "execution_count": 49,
      "outputs": []
    },
    {
      "cell_type": "code",
      "metadata": {
        "id": "uIrQZBEBNCtk"
      },
      "source": [
        "# We simulate BlackBerry stock price movements\r\n",
        "ST1"
      ],
      "execution_count": null,
      "outputs": []
    },
    {
      "cell_type": "code",
      "metadata": {
        "id": "7evauS93NMJY"
      },
      "source": [
        "L1 = 0.5 # fixed (average) loss level\r\n",
        "p1 = 0.01 # probability of default\r\n",
        "\r\n",
        "# Generate default scenarios using Poisson distribution "
      ],
      "execution_count": 51,
      "outputs": []
    },
    {
      "cell_type": "markdown",
      "metadata": {
        "id": "RKnS91SNNbs8"
      },
      "source": [
        "\r\n",
        "Poisson distribution is used in modelling rare events, in our case if the counterparty goes\r\n",
        "bankrupt.\r\n",
        "Risk-neutral value of the future index level is equal to the current value of the asset today if\r\n",
        "there is no default. "
      ]
    },
    {
      "cell_type": "code",
      "metadata": {
        "colab": {
          "base_uri": "https://localhost:8080/"
        },
        "id": "uFxqHbWxNbEO",
        "outputId": "2c79d230-bfd1-4c12-93cd-10e7d5c47444"
      },
      "source": [
        "D = npr.poisson(p1 * T1, I1)\r\n",
        "D = np.where(D > 1, 1, D)\r\n",
        "\r\n",
        "# Risk-neutral value\r\n",
        "\r\n",
        "np.exp(-r1 * T1) * 1 / I1 * np.sum(ST1)\r\n",
        "CVaR1 = np.exp(-r1 * T1) * 1 / I1 * np.sum(L1 * D * ST1)\r\n",
        "print(CVaR1)\r\n",
        "\r\n",
        "# Present value of the asset adjusted for the credit risk\r\n",
        "\r\n",
        "S0_CVA1 = np.exp(-r1 * T1) * 1 / I1 * np.sum((1 - L1 * D) * ST1)\r\n",
        "print(S0_CVA1)\r\n",
        "\r\n",
        "# Another way for calculating the present value of the asset\r\n",
        "S0_adj1 = S0 - CVaR1\r\n",
        "print(S0_adj1)\r\n",
        "\r\n",
        "# The number of possible losses\r\n",
        "np.count_nonzero(L1 * D * ST1)"
      ],
      "execution_count": 54,
      "outputs": [
        {
          "output_type": "stream",
          "text": [
            "0.025065569730647923\n",
            "6.691609801045676\n",
            "6.834934430269352\n"
          ],
          "name": "stdout"
        },
        {
          "output_type": "execute_result",
          "data": {
            "text/plain": [
              "3"
            ]
          },
          "metadata": {
            "tags": []
          },
          "execution_count": 54
        }
      ]
    },
    {
      "cell_type": "code",
      "metadata": {
        "colab": {
          "base_uri": "https://localhost:8080/"
        },
        "id": "vW4LrSpYN4QE",
        "outputId": "e7f42cd8-289b-4c08-9439-904d3de91e78"
      },
      "source": [
        "D"
      ],
      "execution_count": 55,
      "outputs": [
        {
          "output_type": "execute_result",
          "data": {
            "text/plain": [
              "array([0, 0, 0, 0, 0, 0, 0, 0, 0, 0, 1, 0, 0, 0, 0, 0, 0, 0, 0, 0, 0, 0,\n",
              "       0, 0, 0, 0, 0, 0, 0, 0, 0, 0, 0, 0, 0, 0, 0, 0, 0, 0, 0, 0, 0, 0,\n",
              "       0, 0, 0, 0, 0, 0, 0, 0, 0, 0, 0, 0, 0, 0, 0, 0, 0, 0, 0, 0, 0, 0,\n",
              "       0, 0, 0, 0, 0, 0, 0, 0, 0, 0, 0, 0, 0, 0, 0, 0, 0, 0, 0, 0, 0, 0,\n",
              "       0, 0, 0, 0, 0, 0, 0, 0, 0, 0, 0, 0, 0, 0, 0, 0, 0, 0, 0, 0, 0, 0,\n",
              "       0, 0, 0, 0, 0, 1, 0, 0, 0, 0, 0, 0, 0, 0, 0, 0, 0, 0, 0, 0, 0, 0,\n",
              "       0, 0, 0, 0, 0, 0, 0, 0, 0, 0, 0, 0, 0, 0, 0, 0, 0, 0, 0, 0, 0, 0,\n",
              "       0, 0, 0, 0, 0, 0, 0, 0, 0, 0, 0, 0, 0, 0, 0, 0, 0, 0, 0, 0, 0, 0,\n",
              "       0, 0, 0, 0, 0, 0, 0, 0, 0, 0, 0, 1, 0, 0, 0, 0, 0, 0, 0, 0, 0, 0,\n",
              "       0, 0, 0, 0, 0, 0, 0, 0, 0, 0, 0, 0, 0, 0, 0, 0, 0, 0, 0, 0, 0, 0,\n",
              "       0, 0, 0, 0, 0, 0, 0, 0, 0, 0, 0, 0, 0, 0, 0, 0, 0, 0, 0, 0, 0, 0,\n",
              "       0, 0, 0, 0, 0, 0, 0, 0, 0, 0, 0, 0, 0, 0, 0, 0, 0, 0, 0, 0, 0, 0,\n",
              "       0, 0, 0, 0, 0, 0, 0, 0, 0, 0, 0, 0, 0, 0, 0, 0, 0, 0, 0, 0, 0, 0,\n",
              "       0, 0, 0, 0, 0, 0, 0, 0, 0, 0, 0, 0, 0, 0, 0, 0, 0, 0, 0, 0, 0, 0,\n",
              "       0, 0, 0, 0, 0, 0, 0, 0, 0, 0, 0, 0, 0, 0, 0, 0, 0, 0, 0, 0, 0, 0,\n",
              "       0, 0, 0, 0, 0, 0, 0, 0, 0, 0, 0, 0, 0, 0, 0, 0, 0, 0, 0, 0, 0, 0,\n",
              "       0, 0, 0, 0, 0, 0, 0, 0, 0, 0, 0, 0, 0, 0, 0, 0, 0, 0, 0, 0, 0, 0,\n",
              "       0, 0, 0, 0, 0, 0, 0, 0, 0, 0, 0, 0, 0, 0, 0, 0, 0, 0, 0, 0, 0, 0,\n",
              "       0, 0, 0, 0])"
            ]
          },
          "metadata": {
            "tags": []
          },
          "execution_count": 55
        }
      ]
    },
    {
      "cell_type": "markdown",
      "metadata": {
        "id": "Lnu_UKrbSFPX"
      },
      "source": [
        "We observe only 4 losses due to credit risk given a number of 400 simulations and 1 % assumed\r\n",
        "default probability."
      ]
    }
  ]
}