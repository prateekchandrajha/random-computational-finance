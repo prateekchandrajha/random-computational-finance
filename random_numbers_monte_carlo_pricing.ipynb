{
  "nbformat": 4,
  "nbformat_minor": 0,
  "metadata": {
    "colab": {
      "name": "random-numbers-monte-carlo-pricing.ipynb",
      "provenance": [],
      "authorship_tag": "ABX9TyNPiMEL/c8CYzJrbpIzNQwu",
      "include_colab_link": true
    },
    "kernelspec": {
      "name": "python3",
      "display_name": "Python 3"
    }
  },
  "cells": [
    {
      "cell_type": "markdown",
      "metadata": {
        "id": "view-in-github",
        "colab_type": "text"
      },
      "source": [
        "<a href=\"https://colab.research.google.com/github/prateekchandrajha/random-computational-finance/blob/main/random_numbers_monte_carlo_pricing.ipynb\" target=\"_parent\"><img src=\"https://colab.research.google.com/assets/colab-badge.svg\" alt=\"Open In Colab\"/></a>"
      ]
    },
    {
      "cell_type": "markdown",
      "metadata": {
        "id": "nZmQfCukv-Bz"
      },
      "source": [
        "# Linear Congruential Generators\r\n",
        "\r\n",
        "Note that we are forced to use a for loop to generate these sequences because linear\r\n",
        "congruential generators work recursively – as you generate a value in the sequence, you use\r\n",
        "that value to generate the next value, and so on"
      ]
    },
    {
      "cell_type": "code",
      "metadata": {
        "id": "-QG6Qwbzv25R"
      },
      "source": [
        "def lin_con_gen(n, a, c, m, x_0):\r\n",
        "  \"\"\"generates n numbers from lin con generator\"\"\"\r\n",
        "  random_list = [None]*n\r\n",
        "  random_list[0] = (a*x_0+c)%m\r\n",
        "  for i in range(1,n):\r\n",
        "    random_list[i] = (a*random_list[i-1]+c)%m\r\n",
        "\r\n",
        "  return random_list"
      ],
      "execution_count": 1,
      "outputs": []
    },
    {
      "cell_type": "code",
      "metadata": {
        "colab": {
          "base_uri": "https://localhost:8080/"
        },
        "id": "ULFLebx8woe_",
        "outputId": "2c6c601f-fe88-4f0c-809a-bccfd3bba799"
      },
      "source": [
        "lin_con_gen(23, 11, 5, 8, 21) # a random sample from a 𝑈(0,1) distribution"
      ],
      "execution_count": 2,
      "outputs": [
        {
          "output_type": "execute_result",
          "data": {
            "text/plain": [
              "[4, 1, 0, 5, 4, 1, 0, 5, 4, 1, 0, 5, 4, 1, 0, 5, 4, 1, 0, 5, 4, 1, 0]"
            ]
          },
          "metadata": {
            "tags": []
          },
          "execution_count": 2
        }
      ]
    },
    {
      "cell_type": "markdown",
      "metadata": {
        "id": "Eb-jrx9uxg1s"
      },
      "source": [
        "We will now move on to generating numbers from a multivariate normal distribution. All you\r\n",
        "need for this, beyond the Python code, is a correlation matrix. Let’s say that our correlation\r\n",
        "matrix is a 2x2 matrix and we want to create a 2x3 sample from a multivariate normal\r\n",
        "distribution. The first thing we need to do is to decompose the correlation matrix using the\r\n",
        "following code:"
      ]
    },
    {
      "cell_type": "code",
      "metadata": {
        "colab": {
          "base_uri": "https://localhost:8080/"
        },
        "id": "Pj1SBAoSxC5p",
        "outputId": "f5322b59-657d-4005-8ca9-0754b2999005"
      },
      "source": [
        "import numpy as np\r\n",
        "Sigma = np.array([[1,0.5],[0.5,1]])\r\n",
        "L = np.linalg.cholesky(Sigma)\r\n",
        "L"
      ],
      "execution_count": 3,
      "outputs": [
        {
          "output_type": "execute_result",
          "data": {
            "text/plain": [
              "array([[1.       , 0.       ],\n",
              "       [0.5      , 0.8660254]])"
            ]
          },
          "metadata": {
            "tags": []
          },
          "execution_count": 3
        }
      ]
    },
    {
      "cell_type": "markdown",
      "metadata": {
        "id": "xPRXzNAvxyjq"
      },
      "source": [
        "We then generate an uncorrelated multivariate normal sample, and multiply the two out:"
      ]
    },
    {
      "cell_type": "code",
      "metadata": {
        "id": "ZfukymCnxv2i"
      },
      "source": [
        "from scipy.stats import norm\r\n",
        "uncorr_norms = norm.rvs(size=2)\r\n",
        "corr_norms = np.matmul(L, uncorr_norms)"
      ],
      "execution_count": 4,
      "outputs": []
    },
    {
      "cell_type": "code",
      "metadata": {
        "colab": {
          "base_uri": "https://localhost:8080/"
        },
        "id": "pGGN_U_wyedj",
        "outputId": "c8db447f-bdf1-4153-8a01-81deaf52bccc"
      },
      "source": [
        "corr_norms"
      ],
      "execution_count": 5,
      "outputs": [
        {
          "output_type": "execute_result",
          "data": {
            "text/plain": [
              "array([1.06095369, 1.31224057])"
            ]
          },
          "metadata": {
            "tags": []
          },
          "execution_count": 5
        }
      ]
    },
    {
      "cell_type": "markdown",
      "metadata": {
        "id": "xTL7shqOyym6"
      },
      "source": [
        "Generating uniform random numbers with SciPy\r\n",
        "The SciPy package in Python includes a stats environment which allows for the generation of\r\n",
        "random numbers from various distributions, as well as the ability to apply statistical tests to\r\n",
        "variables.\r\n",
        "\r\n",
        "## Inverse Tranform Method"
      ]
    },
    {
      "cell_type": "code",
      "metadata": {
        "colab": {
          "base_uri": "https://localhost:8080/"
        },
        "id": "4C_3IXKAyqtI",
        "outputId": "cb492cc8-eb8e-43a9-c0d5-17f58cd1b6c6"
      },
      "source": [
        "from scipy.stats import uniform\r\n",
        "import math\r\n",
        "unif_array = uniform.rvs(size=10000)\r\n",
        "lambda_val=1\r\n",
        "expo_array = -np.log(1-unif_array)/lambda_val\r\n",
        "expo_array"
      ],
      "execution_count": 6,
      "outputs": [
        {
          "output_type": "execute_result",
          "data": {
            "text/plain": [
              "array([0.17818023, 0.03535299, 1.25340084, ..., 4.43839752, 0.32286468,\n",
              "       0.80728397])"
            ]
          },
          "metadata": {
            "tags": []
          },
          "execution_count": 6
        }
      ]
    },
    {
      "cell_type": "markdown",
      "metadata": {
        "id": "9I9z4Lm45SLu"
      },
      "source": [
        "## How to use rejection sampling?"
      ]
    },
    {
      "cell_type": "code",
      "metadata": {
        "id": "hT_ePcm5zf6S"
      },
      "source": [
        "norm_size = 10000\r\n",
        "norm_array = [None]*norm_size\r\n",
        "count=0\r\n",
        "lambda_val=1\r\n",
        "c=math.sqrt(2*math.exp(1)/math.pi)\r\n",
        "\r\n",
        "while count < norm_size:\r\n",
        "  unif_val_1 = uniform.rvs(size=1)\r\n",
        "  unif_val_2 = uniform.rvs(size=1)\r\n",
        "  expo_val = -math.log(unif_val_2)/lambda_val\r\n",
        "  norm_val = 2*math.exp(-expo_val**2/2)/math.sqrt(2*math.pi)\r\n",
        "\r\n",
        "  if unif_val_1 < norm_val/(c*expo_val):\r\n",
        "    unif_val_3 = uniform.rvs(size=1)\r\n",
        "    if unif_val_3 < 0.5:\r\n",
        "      norm_array[count] = expo_val\r\n",
        "    else:\r\n",
        "      norm_array[count] = -expo_val\r\n",
        "    count+=1\r\n",
        "  else:\r\n",
        "    continue\r\n",
        "\r\n"
      ],
      "execution_count": 7,
      "outputs": []
    },
    {
      "cell_type": "code",
      "metadata": {
        "id": "YVcfOtwD5QJX"
      },
      "source": [
        "import matplotlib.pyplot as plt"
      ],
      "execution_count": 8,
      "outputs": []
    },
    {
      "cell_type": "code",
      "metadata": {
        "colab": {
          "base_uri": "https://localhost:8080/"
        },
        "id": "37P86PRQ58B2",
        "outputId": "ea5acb85-1349-48a5-e30b-9bc4fbb66e64"
      },
      "source": [
        "from scipy.stats import norm\r\n",
        "norm.rvs(size=10000)"
      ],
      "execution_count": 9,
      "outputs": [
        {
          "output_type": "execute_result",
          "data": {
            "text/plain": [
              "array([-1.75558373, -1.37976264,  1.2852889 , ..., -0.54801698,\n",
              "        0.10835439,  0.81700088])"
            ]
          },
          "metadata": {
            "tags": []
          },
          "execution_count": 9
        }
      ]
    },
    {
      "cell_type": "markdown",
      "metadata": {
        "id": "jh78PArp6_pw"
      },
      "source": [
        "## Multivariate Normal\r\n",
        "\r\n",
        "In order to generate random numbers from a multivariate normal distribution with non-zero\r\n",
        "correlations, we have to make use of a convenient mathematical result. But first, let’s set the\r\n",
        "scene:\r\n",
        "Suppose we want to sample from 𝑋 ∼ 𝑀𝑉𝑁(0, Σ). Because Σ is a positive semi-definite matrix (as\r\n",
        "it is a covariance matrix), there exists some matrix, 𝐿, such that Σ = 𝐿𝐿\r\n",
        "′\r\n",
        ", where 𝐿\r\n",
        "′\r\n",
        "is the\r\n",
        "transpose of 𝐿. Observe now that we can write 𝑋 = 𝐿𝑌, where 𝑌 ∼ 𝑀𝑉𝑁(0,𝐼), where 𝐼 is the\r\n",
        "identity matrix.\r\n",
        "In other words, if you can find 𝐿, all you need to do to sample from a correlated multivariate\r\n",
        "normal distribution is a sample from an uncorrelated normal distribution. Supposing we can\r\n",
        "find this 𝐿, we can then generate 𝑋 through 𝑌 ∼ 𝑀𝑉𝑁(0,𝐼), where 𝐼 is the identity matrix. This is\r\n",
        "because of the fact that 𝐿𝑌 ∼ 𝑀𝑉𝑁(0, 𝐿𝐼𝐿\r\n",
        "′\r\n",
        ") ∼ 𝑀𝑉𝑁(0, Σ), since 𝐿𝐿\r\n",
        "′ = Σ.\r\n",
        "There are potentially numerous solutions to the equation Σ = 𝐿𝐿\r\n",
        "′\r\n",
        ". One algorithm for generating\r\n",
        "𝐿 is known as the Cholesky decomposition. This generates an 𝐿 that is lower triangular.\r\n",
        "What is particularly convenient about the Cholesky decomposition is that the NumPy library\r\n",
        "includes an operation for computing the decomposition on any positive semi-definite NumPy\r\n",
        "array."
      ]
    },
    {
      "cell_type": "code",
      "metadata": {
        "colab": {
          "base_uri": "https://localhost:8080/"
        },
        "id": "47i8kuzK6Ejf",
        "outputId": "dba77002-e24f-41b0-f267-5af5c3dd41d3"
      },
      "source": [
        "from scipy.stats import norm\r\n",
        "uncorr_norms = norm.rvs(size=2)\r\n",
        "corr_norms = np.matmul(L, uncorr_norms)\r\n",
        "corr_norms\r\n"
      ],
      "execution_count": 10,
      "outputs": [
        {
          "output_type": "execute_result",
          "data": {
            "text/plain": [
              "array([ 0.23511448, -0.32670391])"
            ]
          },
          "metadata": {
            "tags": []
          },
          "execution_count": 10
        }
      ]
    },
    {
      "cell_type": "markdown",
      "metadata": {
        "id": "P2YjaAE_7QbU"
      },
      "source": [
        "The variable corr_norms contains the two correlated random normals. Correlated numbers like\r\n",
        "these can be used to simulate correlated stock prices in a Black-Scholes world by noting that,\r\n",
        "within this framework, stock prices are log-normally distributed."
      ]
    },
    {
      "cell_type": "markdown",
      "metadata": {
        "id": "r0YtCvgj7g16"
      },
      "source": [
        "## Monte Carlo Simulation\r\n",
        "\r\n",
        "Any integral can be re-expressed as an expectation of a function of a random\r\n",
        "variable over a given set.\r\n",
        "\r\n",
        "This theorem states that, as the number of random variables we simulate increases towards\r\n",
        "infinity, the sample mean converges to the expected value of the function of the random\r\n",
        "variables.\r\n",
        "\r\n",
        "Because the Law of Large Numbers involves a limit as 𝑛 tends to infinity, the simulated\r\n",
        "variables and the sample mean will not be exactly equal to the true underlying mean, since we\r\n",
        "are only simulating finitely many variables. As a result, discrepancies will arise between the\r\n",
        "Monte Carlo estimate and the true underlying values. We would like to quantify this error,\r\n",
        "which is where the Central Limit Theorem comes in.\r\n",
        "\r\n",
        "I have also chosen to represent our Monte Carlo estimates as a function of sample size. The\r\n",
        "reason we do this is because it gives a good illustration of how the Monte Carlo estimate\r\n",
        "converges to the true value. We will do this for all Monte Carlo estimations from this point\r\n",
        "forward."
      ]
    },
    {
      "cell_type": "code",
      "metadata": {
        "id": "6Rsr1z9y7JV4"
      },
      "source": [
        "# Integrating sin(x)\r\n",
        "\r\n",
        "np.random.seed(0)\r\n",
        "\r\n",
        "msin_estimates = [None]*50\r\n",
        "msin_std = [None]*50\r\n",
        "\r\n",
        "for i in range(1,51):\r\n",
        "  unif_array = uniform.rvs(size=i*1000)*np.pi\r\n",
        "  sin_val = np.sin(unif_array)*np.pi\r\n",
        "  msin_estimates[i-1] = np.mean(sin_val)\r\n",
        "  msin_std[i-1] = np.std(sin_val)/np.sqrt(i*1000)"
      ],
      "execution_count": 11,
      "outputs": []
    },
    {
      "cell_type": "code",
      "metadata": {
        "colab": {
          "base_uri": "https://localhost:8080/"
        },
        "id": "MlV9H0OHBohV",
        "outputId": "8899090f-45e4-4f56-f78f-71b94262cc75"
      },
      "source": [
        "msin_estimates[-1]"
      ],
      "execution_count": 12,
      "outputs": [
        {
          "output_type": "execute_result",
          "data": {
            "text/plain": [
              "1.9972970309287528"
            ]
          },
          "metadata": {
            "tags": []
          },
          "execution_count": 12
        }
      ]
    },
    {
      "cell_type": "code",
      "metadata": {
        "colab": {
          "base_uri": "https://localhost:8080/",
          "height": 574
        },
        "id": "hOEYk-UeEQoC",
        "outputId": "95e1044b-e37f-4b3c-943d-e9e5fe8e522d"
      },
      "source": [
        "plt.style.use('fivethirtyeight')\r\n",
        "plt.figure(figsize=(15, 9))\r\n",
        "plt.plot([2]*50)\r\n",
        "plt.plot(msin_estimates, '.')\r\n",
        "plt.plot(2 + np.array(msin_std)*3)\r\n",
        "plt.plot(2 - np.array(msin_std)*3)\r\n",
        "plt.show()"
      ],
      "execution_count": 13,
      "outputs": [
        {
          "output_type": "display_data",
          "data": {
            "image/png": "[encoded data removed]",
            "text/plain": [
              "<Figure size 1080x648 with 1 Axes>"
            ]
          },
          "metadata": {
            "tags": []
          }
        }
      ]
    },
    {
      "cell_type": "markdown",
      "metadata": {
        "id": "6YsUgyhPhPUx"
      },
      "source": [
        ""
      ]
    },
    {
      "cell_type": "code",
      "metadata": {
        "colab": {
          "base_uri": "https://localhost:8080/",
          "height": 595
        },
        "id": "ETgEpKylhPxO",
        "outputId": "34a47a97-4ab2-41ab-91e0-81975c7e6df4"
      },
      "source": [
        "np.random.seed(0)\r\n",
        "\r\n",
        "mexp_est = [None]*50\r\n",
        "mexp_std = [None]*50\r\n",
        "\r\n",
        "for i in range(1,51):\r\n",
        "  norm_array = norm.rvs(size=i*1000)\r\n",
        "  exp_value = np.exp(-norm_array**2/2)*np.sqrt(2*np.pi)\r\n",
        "  mexp_est[i-1] = np.mean(exp_value)\r\n",
        "  mexp_std[i-1] = np.std(exp_value)/np.sqrt(i*1000)\r\n",
        "\r\n",
        "plt.style.use('fivethirtyeight')\r\n",
        "plt.figure(figsize=(15, 9))\r\n",
        "plt.plot([np.sqrt(np.pi)]*50)\r\n",
        "plt.plot(mexp_est, '.')\r\n",
        "plt.plot(np.sqrt(np.pi) + np.array(mexp_std)*3, 'r')\r\n",
        "plt.plot(np.sqrt(np.pi) - np.array(mexp_std)*3, 'r')\r\n",
        "plt.xlabel(\"sample size\")\r\n",
        "plt.ylabel(\"value\")\r\n",
        "plt.show()"
      ],
      "execution_count": 14,
      "outputs": [
        {
          "output_type": "display_data",
          "data": {
            "image/png": "[encoded data removed]",
            "text/plain": [
              "<Figure size 1080x648 with 1 Axes>"
            ]
          },
          "metadata": {
            "tags": []
          }
        }
      ]
    },
    {
      "cell_type": "markdown",
      "metadata": {
        "id": "g2COmS8dl_VU"
      },
      "source": [
        "Now that we’ve introduced Monte Carlo, and shown how to implement it in Python, we can\r\n",
        "begin to apply it to pricing financial instruments. Initially, we are going to restrict ourselves to\r\n",
        "pricing vanilla European options within a Black-Scholes framework – these options have a\r\n",
        "closed-form solution to which we can compare our Monte Carlo estimates.\r\n",
        "\r\n",
        "The Black-Scholes market model provides a stochastic differential equation which models the\r\n",
        "changes in a given stock’s price over time. This model relies on a number of (unrealistic)\r\n",
        "assumptions:\r\n",
        "\r\n",
        "• There is a constant, continuously compounded, risk-free rate of 𝑟.\r\n",
        "\r\n",
        "• There is no default risk, no transaction costs, no spreads, no tax, and no dividends.\r\n",
        "\r\n",
        "• Markets are perfectly liquid with unlimited short selling permitted.\r\n",
        "\r\n",
        "• No arbitrage is possible.\r\n",
        "\r\n",
        "Under Black-Scholes, we have a filtered probability space (Ω,ℱ, 𝐹, 𝒫), where a stock price’s\r\n",
        "dynamics are given by:\r\n",
        "𝑑𝑆𝑡 = 𝜇𝑆𝑡𝑑𝑡 + σ𝑆𝑡𝑑𝑊𝑡\r\n",
        ", 𝑆0 = 𝑆\r\n",
        "(5)\r\n",
        "where 𝑆𝑡\r\n",
        "is the stock’s price at time 𝑡, μ and σ are known constants that represent the mean\r\n",
        "return and volatility of the stock respectively, and 𝑊𝑡\r\n",
        "is a standard Brownian motion. \r\n",
        "\r\n",
        "𝑑𝑆𝑡 = 𝑟𝑆𝑡𝑑𝑡 + σ𝑆𝑡𝑑𝑊𝑡(Q)\r\n",
        "\r\n",
        "𝑆𝑇 = 𝑆0 exp ((𝑟 −\r\n",
        "σ\r\n",
        "2/\r\n",
        "2\r\n",
        ") 𝑇 + σ√𝑇𝑍)\r\n",
        "\r\n",
        "Note that we import norm, since our stock prices\r\n",
        "are going to be simulated using standard normal random variables."
      ]
    },
    {
      "cell_type": "code",
      "metadata": {
        "id": "OixqLJyVjOqW"
      },
      "source": [
        "# share specific info\r\n",
        "\r\n",
        "risk_free = 0.1\r\n",
        "S_0 = 100\r\n",
        "sigma = 0.3\r\n",
        "\r\n",
        "# option specific info\r\n",
        "\r\n",
        "strike = 110\r\n",
        "T = 1\r\n",
        "current_time = 0"
      ],
      "execution_count": 15,
      "outputs": []
    },
    {
      "cell_type": "code",
      "metadata": {
        "id": "E_jhATdLqq9N"
      },
      "source": [
        "def terminal_share_price(S_0, risk_free_rate, sigma, Z, T):\r\n",
        "  \"\"\"generates the terminal share price given some random normal values, Z\"\"\"\r\n",
        "  return S_0*np.exp((risk_free_rate - sigma**2/2)*T + sigma*np.sqrt(T)*Z)\r\n",
        "\r\n",
        "def discounted_call_payoff(S_T, K, risk_free_rate, T):\r\n",
        "  \"\"\"function for evaluating the discounted payoff of call option in monte carlo estimation\"\"\"\r\n",
        "  return np.exp(-risk_free_rate*T)*np.maximum(S_T-K,0)"
      ],
      "execution_count": 16,
      "outputs": []
    },
    {
      "cell_type": "markdown",
      "metadata": {
        "id": "VF_HwUCAr1nc"
      },
      "source": [
        "We define two functions. The first function, terminal_shareprice (line 2), simulates the\r\n",
        "share price at time 𝑇 according to equation (10). It takes in an initial share price, a risk-free rate,\r\n",
        "and volatility, an array of standard normal random variables, and a terminal time. It returns an\r\n",
        "array of terminal stock prices.\r\n",
        "The second function, discounted_call_payoff, implements the formula for the value of a\r\n",
        "call option as given in equation (12). It takes in an array of terminal stock values, a strike price, a\r\n",
        "risk-free rate, and a terminal time. It returns an array which has the value of the call for each\r\n",
        "terminal stock price."
      ]
    },
    {
      "cell_type": "code",
      "metadata": {
        "id": "X5Il4SH9rfjL"
      },
      "source": [
        "mcall_estimates = [None]*50\r\n",
        "mcall_std = [None]*50\r\n",
        "\r\n",
        "#generating monte carlo estimates\r\n",
        "for i in range(1,51):\r\n",
        "  norm_array = norm.rvs(size=i*1000)\r\n",
        "  term_val = terminal_share_price(S_0, risk_free, sigma, norm_array, T-current_time)\r\n",
        "  mcall_val = discounted_call_payoff(term_val, strike, risk_free, T-current_time)\r\n",
        "  mcall_estimates[i-1] = np.mean(mcall_val)\r\n",
        "  mcall_std[i-1] = np.std(mcall_val)/np.sqrt(i*1000)"
      ],
      "execution_count": 17,
      "outputs": []
    },
    {
      "cell_type": "code",
      "metadata": {
        "id": "6HG9MtUjs057"
      },
      "source": [
        "# analytical solution for vanilla european call option\r\n",
        "\r\n",
        "d_1 = (math.log(S_0/strike)+(risk_free+sigma**2/2)*(T-current_time))/(sigma*math.sqrt(T-current_time))\r\n",
        "\r\n",
        "d_2 = d_1 - sigma*math.sqrt(T-current_time)\r\n"
      ],
      "execution_count": 18,
      "outputs": []
    },
    {
      "cell_type": "code",
      "metadata": {
        "id": "BPhVG5a_tbzv"
      },
      "source": [
        "analytic_callprice = S_0*norm.cdf(d_1)-strike*math.exp(-risk_free*(T-current_time))*norm.cdf(d_2)"
      ],
      "execution_count": 19,
      "outputs": []
    },
    {
      "cell_type": "code",
      "metadata": {
        "colab": {
          "base_uri": "https://localhost:8080/"
        },
        "id": "n2x84eOctuEN",
        "outputId": "32e7380d-816d-4efd-d36e-dcefc9bd01dd"
      },
      "source": [
        "analytic_callprice"
      ],
      "execution_count": 20,
      "outputs": [
        {
          "output_type": "execute_result",
          "data": {
            "text/plain": [
              "12.131028958035898"
            ]
          },
          "metadata": {
            "tags": []
          },
          "execution_count": 20
        }
      ]
    },
    {
      "cell_type": "code",
      "metadata": {
        "colab": {
          "base_uri": "https://localhost:8080/",
          "height": 595
        },
        "id": "oEazgmL0tvN5",
        "outputId": "2634c576-d8f9-44f6-906c-ffe5d61dbe69"
      },
      "source": [
        "plt.figure(figsize=(15, 9))\r\n",
        "plt.plot([analytic_callprice]*50)\r\n",
        "plt.plot(mcall_estimates, '.')\r\n",
        "plt.plot(analytic_callprice + 3*np.array(mcall_std), 'r')\r\n",
        "plt.plot(analytic_callprice - 3*np.array(mcall_std), 'r')\r\n",
        "plt.xlabel(\"Sample Size\")\r\n",
        "plt.ylabel(\"Value\")\r\n",
        "plt.show()"
      ],
      "execution_count": 23,
      "outputs": [
        {
          "output_type": "display_data",
          "data": {
            "image/png": "[encoded data removed]",
            "text/plain": [
              "<Figure size 1080x648 with 1 Axes>"
            ]
          },
          "metadata": {
            "tags": []
          }
        }
      ]
    }
  ]
}