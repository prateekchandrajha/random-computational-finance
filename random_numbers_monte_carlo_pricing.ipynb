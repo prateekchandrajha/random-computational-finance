{
  "nbformat": 4,
  "nbformat_minor": 0,
  "metadata": {
    "colab": {
      "name": "random-numbers-monte-carlo-pricing.ipynb",
      "provenance": [],
      "authorship_tag": "ABX9TyNLlhVNXhTsZo1ok46jo77z",
      "include_colab_link": true
    },
    "kernelspec": {
      "name": "python3",
      "display_name": "Python 3"
    }
  },
  "cells": [
    {
      "cell_type": "markdown",
      "metadata": {
        "id": "view-in-github",
        "colab_type": "text"
      },
      "source": [
        "<a href=\"https://colab.research.google.com/github/prateekchandrajha/random-computational-finance/blob/main/random_numbers_monte_carlo_pricing.ipynb\" target=\"_parent\"><img src=\"https://colab.research.google.com/assets/colab-badge.svg\" alt=\"Open In Colab\"/></a>"
      ]
    },
    {
      "cell_type": "markdown",
      "metadata": {
        "id": "nZmQfCukv-Bz"
      },
      "source": [
        "# Linear Congruential Generators\r\n",
        "\r\n",
        "Note that we are forced to use a for loop to generate these sequences because linear\r\n",
        "congruential generators work recursively – as you generate a value in the sequence, you use\r\n",
        "that value to generate the next value, and so on"
      ]
    },
    {
      "cell_type": "code",
      "metadata": {
        "id": "-QG6Qwbzv25R"
      },
      "source": [
        "def lin_con_gen(n, a, c, m, x_0):\r\n",
        "  \"\"\"generates n numbers from lin con generator\"\"\"\r\n",
        "  random_list = [None]*n\r\n",
        "  random_list[0] = (a*x_0+c)%m\r\n",
        "  for i in range(1,n):\r\n",
        "    random_list[i] = (a*random_list[i-1]+c)%m\r\n",
        "\r\n",
        "  return random_list"
      ],
      "execution_count": 16,
      "outputs": []
    },
    {
      "cell_type": "code",
      "metadata": {
        "colab": {
          "base_uri": "https://localhost:8080/"
        },
        "id": "ULFLebx8woe_",
        "outputId": "98845439-17d0-4773-d99e-bbed8e5c15ff"
      },
      "source": [
        "lin_con_gen(23, 11, 5, 8, 21) # a random sample from a 𝑈(0,1) distribution"
      ],
      "execution_count": 17,
      "outputs": [
        {
          "output_type": "execute_result",
          "data": {
            "text/plain": [
              "[4, 1, 0, 5, 4, 1, 0, 5, 4, 1, 0, 5, 4, 1, 0, 5, 4, 1, 0, 5, 4, 1, 0]"
            ]
          },
          "metadata": {
            "tags": []
          },
          "execution_count": 17
        }
      ]
    },
    {
      "cell_type": "markdown",
      "metadata": {
        "id": "Eb-jrx9uxg1s"
      },
      "source": [
        "We will now move on to generating numbers from a multivariate normal distribution. All you\r\n",
        "need for this, beyond the Python code, is a correlation matrix. Let’s say that our correlation\r\n",
        "matrix is a 2x2 matrix and we want to create a 2x3 sample from a multivariate normal\r\n",
        "distribution. The first thing we need to do is to decompose the correlation matrix using the\r\n",
        "following code:"
      ]
    },
    {
      "cell_type": "code",
      "metadata": {
        "colab": {
          "base_uri": "https://localhost:8080/"
        },
        "id": "Pj1SBAoSxC5p",
        "outputId": "30728e50-2e18-48da-f746-0804a40201ad"
      },
      "source": [
        "import numpy as np\r\n",
        "Sigma = np.array([[1,0.5],[0.5,1]])\r\n",
        "L = np.linalg.cholesky(Sigma)\r\n",
        "L"
      ],
      "execution_count": 18,
      "outputs": [
        {
          "output_type": "execute_result",
          "data": {
            "text/plain": [
              "array([[1.       , 0.       ],\n",
              "       [0.5      , 0.8660254]])"
            ]
          },
          "metadata": {
            "tags": []
          },
          "execution_count": 18
        }
      ]
    },
    {
      "cell_type": "markdown",
      "metadata": {
        "id": "xPRXzNAvxyjq"
      },
      "source": [
        "We then generate an uncorrelated multivariate normal sample, and multiply the two out:"
      ]
    },
    {
      "cell_type": "code",
      "metadata": {
        "id": "ZfukymCnxv2i"
      },
      "source": [
        "from scipy.stats import norm\r\n",
        "uncorr_norms = norm.rvs(size=2)\r\n",
        "corr_norms = np.matmul(L, uncorr_norms)"
      ],
      "execution_count": 19,
      "outputs": []
    },
    {
      "cell_type": "code",
      "metadata": {
        "colab": {
          "base_uri": "https://localhost:8080/"
        },
        "id": "pGGN_U_wyedj",
        "outputId": "4a35ff2c-5d5f-4196-f28c-9a66f869b2e9"
      },
      "source": [
        "corr_norms"
      ],
      "execution_count": 20,
      "outputs": [
        {
          "output_type": "execute_result",
          "data": {
            "text/plain": [
              "array([-0.22206575,  0.51212346])"
            ]
          },
          "metadata": {
            "tags": []
          },
          "execution_count": 20
        }
      ]
    },
    {
      "cell_type": "markdown",
      "metadata": {
        "id": "xTL7shqOyym6"
      },
      "source": [
        "Generating uniform random numbers with SciPy\r\n",
        "The SciPy package in Python includes a stats environment which allows for the generation of\r\n",
        "random numbers from various distributions, as well as the ability to apply statistical tests to\r\n",
        "variables.\r\n",
        "\r\n",
        "## Inverse Tranform Method"
      ]
    },
    {
      "cell_type": "code",
      "metadata": {
        "colab": {
          "base_uri": "https://localhost:8080/"
        },
        "id": "4C_3IXKAyqtI",
        "outputId": "e119600f-a38b-47b8-c719-17eba2a4c852"
      },
      "source": [
        "from scipy.stats import uniform\r\n",
        "import math\r\n",
        "unif_array = uniform.rvs(size=10000)\r\n",
        "lambda_val=1\r\n",
        "expo_array = -np.log(1-unif_array)/lambda_val\r\n",
        "expo_array"
      ],
      "execution_count": 21,
      "outputs": [
        {
          "output_type": "execute_result",
          "data": {
            "text/plain": [
              "array([1.13940494, 0.33841012, 0.35688994, ..., 5.72698646, 0.30144515,\n",
              "       1.98380161])"
            ]
          },
          "metadata": {
            "tags": []
          },
          "execution_count": 21
        }
      ]
    },
    {
      "cell_type": "markdown",
      "metadata": {
        "id": "9I9z4Lm45SLu"
      },
      "source": [
        "## How to use rejection sampling?"
      ]
    },
    {
      "cell_type": "code",
      "metadata": {
        "id": "hT_ePcm5zf6S"
      },
      "source": [
        "norm_size = 10000\r\n",
        "norm_array = [None]*norm_size\r\n",
        "count=0\r\n",
        "lambda_val=1\r\n",
        "c=math.sqrt(2*math.exp(1)/math.pi)\r\n",
        "\r\n",
        "while count < norm_size:\r\n",
        "  unif_val_1 = uniform.rvs(size=1)\r\n",
        "  unif_val_2 = uniform.rvs(size=1)\r\n",
        "  expo_val = -math.log(unif_val_2)/lambda_val\r\n",
        "  norm_val = 2*math.exp(-expo_val**2/2)/math.sqrt(2*math.pi)\r\n",
        "\r\n",
        "  if unif_val_1 < norm_val/(c*expo_val):\r\n",
        "    unif_val_3 = uniform.rvs(size=1)\r\n",
        "    if unif_val_3 < 0.5:\r\n",
        "      norm_array[count] = expo_val\r\n",
        "    else:\r\n",
        "      norm_array[count] = -expo_val\r\n",
        "    count+=1\r\n",
        "  else:\r\n",
        "    continue\r\n",
        "\r\n"
      ],
      "execution_count": 22,
      "outputs": []
    },
    {
      "cell_type": "code",
      "metadata": {
        "colab": {
          "base_uri": "https://localhost:8080/",
          "height": 285
        },
        "id": "YVcfOtwD5QJX",
        "outputId": "2ad7a209-49e8-485b-c010-828ce38c3dde"
      },
      "source": [
        "import matplotlib.pyplot as plt"
      ],
      "execution_count": 24,
      "outputs": [
        {
          "output_type": "execute_result",
          "data": {
            "text/plain": [
              "[<matplotlib.lines.Line2D at 0x7f098a8363c8>]"
            ]
          },
          "metadata": {
            "tags": []
          },
          "execution_count": 24
        },
        {
          "output_type": "display_data",
          "data": {
            "image/png": "[encoded data removed]",
            "text/plain": [
              "<Figure size 432x288 with 1 Axes>"
            ]
          },
          "metadata": {
            "tags": [],
            "needs_background": "light"
          }
        }
      ]
    },
    {
      "cell_type": "code",
      "metadata": {
        "colab": {
          "base_uri": "https://localhost:8080/"
        },
        "id": "37P86PRQ58B2",
        "outputId": "490baa92-ef9f-4572-90d1-e91372d609e0"
      },
      "source": [
        "from scipy.stats import norm\r\n",
        "norm.rvs(size=10000)"
      ],
      "execution_count": 25,
      "outputs": [
        {
          "output_type": "execute_result",
          "data": {
            "text/plain": [
              "array([-0.57894333,  1.92956706,  1.2115321 , ...,  0.87964673,\n",
              "        1.33241082, -1.43174078])"
            ]
          },
          "metadata": {
            "tags": []
          },
          "execution_count": 25
        }
      ]
    },
    {
      "cell_type": "markdown",
      "metadata": {
        "id": "jh78PArp6_pw"
      },
      "source": [
        "## Multivariate Normal\r\n",
        "\r\n",
        "In order to generate random numbers from a multivariate normal distribution with non-zero\r\n",
        "correlations, we have to make use of a convenient mathematical result. But first, let’s set the\r\n",
        "scene:\r\n",
        "Suppose we want to sample from 𝑋 ∼ 𝑀𝑉𝑁(0, Σ). Because Σ is a positive semi-definite matrix (as\r\n",
        "it is a covariance matrix), there exists some matrix, 𝐿, such that Σ = 𝐿𝐿\r\n",
        "′\r\n",
        ", where 𝐿\r\n",
        "′\r\n",
        "is the\r\n",
        "transpose of 𝐿. Observe now that we can write 𝑋 = 𝐿𝑌, where 𝑌 ∼ 𝑀𝑉𝑁(0,𝐼), where 𝐼 is the\r\n",
        "identity matrix.\r\n",
        "In other words, if you can find 𝐿, all you need to do to sample from a correlated multivariate\r\n",
        "normal distribution is a sample from an uncorrelated normal distribution. Supposing we can\r\n",
        "find this 𝐿, we can then generate 𝑋 through 𝑌 ∼ 𝑀𝑉𝑁(0,𝐼), where 𝐼 is the identity matrix. This is\r\n",
        "because of the fact that 𝐿𝑌 ∼ 𝑀𝑉𝑁(0, 𝐿𝐼𝐿\r\n",
        "′\r\n",
        ") ∼ 𝑀𝑉𝑁(0, Σ), since 𝐿𝐿\r\n",
        "′ = Σ.\r\n",
        "There are potentially numerous solutions to the equation Σ = 𝐿𝐿\r\n",
        "′\r\n",
        ". One algorithm for generating\r\n",
        "𝐿 is known as the Cholesky decomposition. This generates an 𝐿 that is lower triangular.\r\n",
        "What is particularly convenient about the Cholesky decomposition is that the NumPy library\r\n",
        "includes an operation for computing the decomposition on any positive semi-definite NumPy\r\n",
        "array."
      ]
    },
    {
      "cell_type": "code",
      "metadata": {
        "colab": {
          "base_uri": "https://localhost:8080/"
        },
        "id": "47i8kuzK6Ejf",
        "outputId": "ce17f239-4122-4aed-dcc8-7961333ceb7a"
      },
      "source": [
        "from scipy.stats import norm\r\n",
        "uncorr_norms = norm.rvs(size=2)\r\n",
        "corr_norms = np.matmul(L, uncorr_norms)\r\n",
        "corr_norms\r\n"
      ],
      "execution_count": 27,
      "outputs": [
        {
          "output_type": "execute_result",
          "data": {
            "text/plain": [
              "array([-0.67795548, -0.11015298])"
            ]
          },
          "metadata": {
            "tags": []
          },
          "execution_count": 27
        }
      ]
    },
    {
      "cell_type": "markdown",
      "metadata": {
        "id": "P2YjaAE_7QbU"
      },
      "source": [
        "The variable corr_norms contains the two correlated random normals. Correlated numbers like\r\n",
        "these can be used to simulate correlated stock prices in a Black-Scholes world by noting that,\r\n",
        "within this framework, stock prices are log-normally distributed."
      ]
    },
    {
      "cell_type": "markdown",
      "metadata": {
        "id": "r0YtCvgj7g16"
      },
      "source": [
        "## Monte Carlo Simulation\r\n",
        "\r\n",
        "Any integral can be re-expressed as an expectation of a function of a random\r\n",
        "variable over a given set.\r\n",
        "\r\n",
        "This theorem states that, as the number of random variables we simulate increases towards\r\n",
        "infinity, the sample mean converges to the expected value of the function of the random\r\n",
        "variables.\r\n",
        "\r\n",
        "Because the Law of Large Numbers involves a limit as 𝑛 tends to infinity, the simulated\r\n",
        "variables and the sample mean will not be exactly equal to the true underlying mean, since we\r\n",
        "are only simulating finitely many variables. As a result, discrepancies will arise between the\r\n",
        "Monte Carlo estimate and the true underlying values. We would like to quantify this error,\r\n",
        "which is where the Central Limit Theorem comes in.\r\n",
        "\r\n",
        "I have also chosen to represent our Monte Carlo estimates as a function of sample size. The\r\n",
        "reason we do this is because it gives a good illustration of how the Monte Carlo estimate\r\n",
        "converges to the true value. We will do this for all Monte Carlo estimations from this point\r\n",
        "forward."
      ]
    },
    {
      "cell_type": "code",
      "metadata": {
        "id": "6Rsr1z9y7JV4"
      },
      "source": [
        "# Integrating sin(x)\r\n",
        "\r\n",
        "np.random.seed(0)\r\n",
        "\r\n",
        "msin_estimates = [None]*50\r\n",
        "msin_std = [None]*50\r\n",
        "\r\n",
        "for i in range(1,51):\r\n",
        "  unif_array = uniform.rvs(size=i*1000)*np.pi\r\n",
        "  sin_val = np.sin(unif_array)*np.pi\r\n",
        "  msin_estimates[i-1] = np.mean(sin_val)\r\n",
        "  msin_std[i-1] = np.std(sin_val)/np.sqrt(i*1000)"
      ],
      "execution_count": 30,
      "outputs": []
    },
    {
      "cell_type": "code",
      "metadata": {
        "colab": {
          "base_uri": "https://localhost:8080/"
        },
        "id": "MlV9H0OHBohV",
        "outputId": "c624a4a2-2cda-421a-9850-d11580a09127"
      },
      "source": [
        "msin_estimates[-1]"
      ],
      "execution_count": 31,
      "outputs": [
        {
          "output_type": "execute_result",
          "data": {
            "text/plain": [
              "1.9972970309287528"
            ]
          },
          "metadata": {
            "tags": []
          },
          "execution_count": 31
        }
      ]
    },
    {
      "cell_type": "code",
      "metadata": {
        "colab": {
          "base_uri": "https://localhost:8080/",
          "height": 574
        },
        "id": "hOEYk-UeEQoC",
        "outputId": "10bca821-9487-4d88-9133-b13d3ddc7d7d"
      },
      "source": [
        "plt.style.use('fivethirtyeight')\r\n",
        "plt.figure(figsize=(15, 9))\r\n",
        "plt.plot([2]*50)\r\n",
        "plt.plot(msin_estimates, '.')\r\n",
        "plt.plot(2 + np.array(msin_std)*3)\r\n",
        "plt.plot(2 - np.array(msin_std)*3)\r\n",
        "plt.show()"
      ],
      "execution_count": 33,
      "outputs": [
        {
          "output_type": "display_data",
          "data": {
            "image/png": "[encoded data removed]",
            "text/plain": [
              "<Figure size 1080x648 with 1 Axes>"
            ]
          },
          "metadata": {
            "tags": []
          }
        }
      ]
    }
  ]
}